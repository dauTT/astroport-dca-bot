{
 "cells": [
  {
   "cell_type": "code",
   "execution_count": 1,
   "metadata": {},
   "outputs": [
    {
     "name": "stdout",
     "output_type": "stream",
     "text": [
      "1295674\n"
     ]
    }
   ],
   "source": [
    "from terra_sdk.client.lcd import LCDClient\n",
    "terra = LCDClient(chain_id=\"phoenix-1\",\n",
    "                       url=\"https://phoenix-lcd.terra.dev\")\n",
    "\n",
    "print(terra.tendermint.block_info()['block']['header']['height'])\n"
   ]
  },
  {
   "cell_type": "code",
   "execution_count": 16,
   "metadata": {},
   "outputs": [],
   "source": [
    "import json\n",
    "from util import read_artifact, write_artifact"
   ]
  },
  {
   "cell_type": "code",
   "execution_count": 21,
   "metadata": {},
   "outputs": [
    {
     "name": "stdout",
     "output_type": "stream",
     "text": [
      "terra15kwtyl2jtf8frwh3zu2jntqvem8u36y8aw6yy9z3ypgkfjx6ct2q73xas8\n",
      "{\n",
      "    \"tokenCodeID\": 15,\n",
      "    \"tokenAddress\": \"terra17v6gz38e94ryfeewtlpafw0jd20afgsu8xu8px2dz7xaqkz4afrqshln05\",\n",
      "    \"multisigAddress\": \"terra1x46rqay4d3cssq8gxxvqz8xt6nwlz4td20k38v\",\n",
      "    \"whitelistCodeID\": 19,\n",
      "    \"whitelistAddress\": \"terra160uy8dt3wk6q5aswc266t6hak07xergpmakk9srsaedg7xwcw67s3yg939\",\n",
      "    \"pairCodeID\": 20,\n",
      "    \"pairStableCodeID\": 21,\n",
      "    \"xastroTokenCodeID\": 22,\n",
      "    \"stakingAddress\": \"terra1f5vdkslcghur6uqecar9rrg5qr6skmflprj6gzpaqxznjdah3syqqj5zu4\",\n",
      "    \"xastroAddress\": \"terra1u9ayepulw285rfcj5vh462e0t6vwa6yxl7960l9pkae66w2gf7hqgwjcw9\",\n",
      "    \"factoryAddress\": \"terra1qnmggqv3u03axw69cn578hukqhl4f2ze2k403ykcdlhj98978u7stv7fyj\",\n",
      "    \"routerAddress\": \"terra15kwtyl2jtf8frwh3zu2jntqvem8u36y8aw6yy9z3ypgkfjx6ct2q73xas8\",\n",
      "    \"makerAddress\": \"terra1ypsg336x2phzcwze4yu7ecv5ptu069rgxzane56njh502kuf9thskjdvqj\",\n",
      "    \"tokenAddresses\": {\n",
      "        \"AAA\": \"terra1cyd63pk2wuvjkqmhlvp9884z4h89rqtn8w8xgz9m28hjd2kzj2cq076xfe\",\n",
      "        \"BBB\": \"terra14haqsatfqxh3jgzn6u7ggnece4vhv0nt8a8ml4rg29mln9hdjfdq9xpv0p\",\n",
      "        \"CCC\": \"terra1q0e70vhrv063eah90mu97sazhywmeegptx642t5px7yfcrf0rrsq2nesul\",\n",
      "        \"DDD\": \"terra10v0hrjvwwlqwvk2yhwagm9m9h385spxa4s54f4aekhap0lxyekys4jh3s4\",\n",
      "        \"EEE\": \"terra1wastjc07zuuy46mzzl3egz4uzy6fs59752grxqvz8zlsqccpv2wqnfu3yr\",\n",
      "        \"FFF\": \"terra1uvt40rsp68wtas0y75w34qdn5h0g5eyefy5gmvzftdnupyv7q7vqqp9fge\",\n",
      "        \"GGG\": \"terra1dkcsehtk7vq2ta9x4kdazlcpr4s58xfxt3dvuj98025rmleg4g2q8g6d3p\",\n",
      "        \"HHH\": \"terra1ul4msjc3mmaxsscdgdtjds85rg50qrepvrczp0ldgma5mm9xv8yq8a7tex\",\n",
      "        \"III\": \"terra19egn9e8v5493mtum626upcjyu5xj3mru57htge0ma66sk5gyqf4qu6r90m\"\n",
      "    },\n",
      "    \"poolAAA-BBB\": \"terra1d4sad30uj59lxg56ylwn7457v8z4k5m3323r9u360q85w8ga3kfsk2eyfs\",\n",
      "    \"lpTokenAAA-BBB\": \"terra14ddekavkyjwfy0tdw9ng7rxxmw9mjpms2ppmav3nfh6akady3pzqlggg5t\",\n",
      "    \"poolBBB-LUNA\": \"terra16frj05cr02nkwgdc45pawjvuqql8vs6dzz0x92y6ag0spt4sfd5s5dsl09\",\n",
      "    \"lpTokenBBB-LUNA\": \"terra1qyl0j7a24amk8k8gcmvv07y2zjx7nkcwpk73js24euh64hkja6esv7qrld\",\n",
      "    \"poolLUNA-CCC\": \"terra1qt0gkcrvcpv765k8ec4tl2svvg6hd3e3td8pvg2fsncrt3dzjefsa4n0jc\",\n",
      "    \"lpTokenLUNA-CCC\": \"terra105espjya6qc7tazk8drsnvf2675q5wywafnwlhs5tpx9yza7hpmqqxpx35\",\n",
      "    \"poolBBB-DDD\": \"terra1nl237syqtwr37nh3gf207fn3t8a5gfy4cp0puvt0s9fk4sm0qmzsuc4mc5\",\n",
      "    \"lpTokenBBB-DDD\": \"terra1ggc4snw6dkj49n7j5znc9ae9lk92a8nlje9nkmrqryhwdzz0g50qssm3ql\"\n",
      "}\n"
     ]
    }
   ],
   "source": [
    "f = read_artifact(\"localterra\")\n",
    "\n",
    "print(f['routerAddress'])\n",
    "print(json.dumps(f, indent=4))\n"
   ]
  },
  {
   "cell_type": "code",
   "execution_count": 5,
   "metadata": {},
   "outputs": [],
   "source": [
    "f[\"DcaCodeId\"] = \"XXSSDxccdS\"\n",
    "\n",
    "write_artifact(f, \"localterra\")"
   ]
  },
  {
   "cell_type": "code",
   "execution_count": 1,
   "metadata": {},
   "outputs": [],
   "source": [
    "import base64\n",
    "from terra_sdk.client.lcd.api.tx import CreateTxOptions\n",
    "from terra_sdk.client.localterra import LocalTerra\n",
    "from terra_sdk.core.wasm import MsgStoreCode, MsgInstantiateContract, MsgExecuteContract\n",
    "from terra_sdk.core.fee import Fee\n",
    "from terra_proto.cosmwasm.wasm.v1 import AccessType\n",
    "from terra_sdk.core.wasm.data import AccessConfig\n"
   ]
  },
  {
   "cell_type": "code",
   "execution_count": 4,
   "metadata": {},
   "outputs": [],
   "source": [
    "terra = LocalTerra()\n",
    "test1 = terra.wallets[\"test1\"]\n",
    "#contract_file = open(\"tests/artifacts/astroport_dca_module.wasm\", \"rb\")\n",
    "#file_bytes = base64.b64encode(contract_file.read()).decode()\n",
    "\n",
    "user_address = test1.key.acc_address\n",
    "\n",
    "#store_code = MsgStoreCode(test1.key.acc_address, file_bytes, AccessConfig(\n",
    "#    AccessType.ACCESS_TYPE_EVERYBODY, \"\"))\n",
    "#store_code_tx = test1.create_and_sign_tx(CreateTxOptions(\n",
    "#    msgs=[store_code]))\n",
    "#store_code_tx_result = terra.tx.broadcast(store_code_tx)\n",
    "#print(store_code_tx_result)\n"
   ]
  },
  {
   "cell_type": "code",
   "execution_count": 6,
   "metadata": {},
   "outputs": [
    {
     "data": {
      "text/plain": [
       "str"
      ]
     },
     "execution_count": 6,
     "metadata": {},
     "output_type": "execute_result"
    }
   ],
   "source": [
    "type(user_address)"
   ]
  },
  {
   "cell_type": "code",
   "execution_count": 3,
   "metadata": {},
   "outputs": [
    {
     "name": "stdout",
     "output_type": "stream",
     "text": [
      "{'code_id': 32, 'data_hash': '1BD6EDE6A2BCC2F921AA9FC9123CBBD15861C0E68F40B7F8EB8584B81BC64B8B', 'creator': 'terra1x46rqay4d3cssq8gxxvqz8xt6nwlz4td20k38v', 'instantiate_permission': {'permission': 'Everybody', 'address': ''}}\n"
     ]
    }
   ],
   "source": [
    "print(terra.wasm.code_info(32))"
   ]
  },
  {
   "cell_type": "code",
   "execution_count": 15,
   "metadata": {},
   "outputs": [
    {
     "name": "stdout",
     "output_type": "stream",
     "text": [
      "{'code_id': 33, 'data_hash': '1BD6EDE6A2BCC2F921AA9FC9123CBBD15861C0E68F40B7F8EB8584B81BC64B8B', 'creator': 'terra1x46rqay4d3cssq8gxxvqz8xt6nwlz4td20k38v', 'instantiate_permission': {'permission': 'Everybody', 'address': ''}}\n"
     ]
    }
   ],
   "source": [
    "print(terra.wasm"
   ]
  },
  {
   "cell_type": "code",
   "execution_count": 9,
   "metadata": {},
   "outputs": [
    {
     "data": {
      "text/plain": [
       "[{'token_allowance': '3000000',\n",
       "  'order': {'id': 1,\n",
       "   'initial_asset': {'info': {'token': {'contract_addr': 'terra1cyd63pk2wuvjkqmhlvp9884z4h89rqtn8w8xgz9m28hjd2kzj2cq076xfe'}},\n",
       "    'amount': '1000000'},\n",
       "   'target_asset': {'native_token': {'denom': 'uluna'}},\n",
       "   'interval': 10,\n",
       "   'last_purchase': 0,\n",
       "   'dca_amount': '1000000'}},\n",
       " {'token_allowance': '3000000',\n",
       "  'order': {'id': 2,\n",
       "   'initial_asset': {'info': {'token': {'contract_addr': 'terra1cyd63pk2wuvjkqmhlvp9884z4h89rqtn8w8xgz9m28hjd2kzj2cq076xfe'}},\n",
       "    'amount': '1000000'},\n",
       "   'target_asset': {'native_token': {'denom': 'uluna'}},\n",
       "   'interval': 10,\n",
       "   'last_purchase': 0,\n",
       "   'dca_amount': '1000000'}},\n",
       " {'token_allowance': '3000000',\n",
       "  'order': {'id': 3,\n",
       "   'initial_asset': {'info': {'token': {'contract_addr': 'terra1cyd63pk2wuvjkqmhlvp9884z4h89rqtn8w8xgz9m28hjd2kzj2cq076xfe'}},\n",
       "    'amount': '1000000'},\n",
       "   'target_asset': {'token': {'contract_addr': 'terra1q0e70vhrv063eah90mu97sazhywmeegptx642t5px7yfcrf0rrsq2nesul'}},\n",
       "   'interval': 10,\n",
       "   'last_purchase': 1661584841,\n",
       "   'dca_amount': '1000000'}}]"
      ]
     },
     "execution_count": 9,
     "metadata": {},
     "output_type": "execute_result"
    }
   ],
   "source": [
    "dca_contract = \"terra18zjcdsttnfhxxjjv29twnum3gxlqj54tlcmflwqsee9crmn9pk0s6edzhe\"\n",
    "\n",
    "msg = {\n",
    "        \"user_dca_orders\": {\n",
    "            \"user\": user_address\n",
    "        }\n",
    "    }\n",
    "    \n",
    "    \n",
    "terra.wasm.contract_query(dca_contract, msg)\n"
   ]
  },
  {
   "cell_type": "code",
   "execution_count": 11,
   "metadata": {},
   "outputs": [],
   "source": []
  },
  {
   "cell_type": "code",
   "execution_count": 15,
   "metadata": {},
   "outputs": [
    {
     "data": {
      "text/plain": [
       "[{'token_allowance': '3000000',\n",
       "  'order': {'id': 1,\n",
       "   'initial_asset': {'info': {'token': {'contract_addr': 'terra1cyd63pk2wuvjkqmhlvp9884z4h89rqtn8w8xgz9m28hjd2kzj2cq076xfe'}},\n",
       "    'amount': '1000000'},\n",
       "   'target_asset': {'native_token': {'denom': 'uluna'}},\n",
       "   'interval': 10,\n",
       "   'last_purchase': 0,\n",
       "   'dca_amount': '1000000'}},\n",
       " {'token_allowance': '3000000',\n",
       "  'order': {'id': 2,\n",
       "   'initial_asset': {'info': {'token': {'contract_addr': 'terra1cyd63pk2wuvjkqmhlvp9884z4h89rqtn8w8xgz9m28hjd2kzj2cq076xfe'}},\n",
       "    'amount': '1000000'},\n",
       "   'target_asset': {'native_token': {'denom': 'uluna'}},\n",
       "   'interval': 10,\n",
       "   'last_purchase': 0,\n",
       "   'dca_amount': '1000000'}},\n",
       " {'token_allowance': '3000000',\n",
       "  'order': {'id': 3,\n",
       "   'initial_asset': {'info': {'token': {'contract_addr': 'terra1cyd63pk2wuvjkqmhlvp9884z4h89rqtn8w8xgz9m28hjd2kzj2cq076xfe'}},\n",
       "    'amount': '1000000'},\n",
       "   'target_asset': {'token': {'contract_addr': 'terra1q0e70vhrv063eah90mu97sazhywmeegptx642t5px7yfcrf0rrsq2nesul'}},\n",
       "   'interval': 10,\n",
       "   'last_purchase': 1661584841,\n",
       "   'dca_amount': '1000000'}}]"
      ]
     },
     "execution_count": 15,
     "metadata": {},
     "output_type": "execute_result"
    }
   ],
   "source": [
    "from bot.util import get_user_dca_orders\n",
    "get_user_dca_orders(terra, dca_contract, user_address)\n"
   ]
  },
  {
   "cell_type": "code",
   "execution_count": null,
   "metadata": {},
   "outputs": [],
   "source": []
  },
  {
   "cell_type": "code",
   "execution_count": null,
   "metadata": {},
   "outputs": [],
   "source": []
  }
 ],
 "metadata": {
  "kernelspec": {
   "display_name": "venv",
   "language": "python",
   "name": "venv"
  },
  "language_info": {
   "codemirror_mode": {
    "name": "ipython",
    "version": 3
   },
   "file_extension": ".py",
   "mimetype": "text/x-python",
   "name": "python",
   "nbconvert_exporter": "python",
   "pygments_lexer": "ipython3",
   "version": "3.9.13"
  }
 },
 "nbformat": 4,
 "nbformat_minor": 2
}
